{
 "cells": [
  {
   "cell_type": "code",
   "execution_count": 1,
   "id": "b8e2955b",
   "metadata": {},
   "outputs": [
    {
     "name": "stdout",
     "output_type": "stream",
     "text": [
      "Requirement already satisfied: SpeechRecognition in c:\\users\\duawl\\anaconda3\\lib\\site-packages (3.8.1)\n",
      "Note: you may need to restart the kernel to use updated packages.\n"
     ]
    }
   ],
   "source": [
    "pip install SpeechRecognition"
   ]
  },
  {
   "cell_type": "code",
   "execution_count": 2,
   "id": "df185905",
   "metadata": {},
   "outputs": [
    {
     "name": "stdout",
     "output_type": "stream",
     "text": [
      "Requirement already satisfied: librosa in c:\\users\\duawl\\anaconda3\\lib\\site-packages (0.9.2)Note: you may need to restart the kernel to use updated packages.\n",
      "Requirement already satisfied: scipy>=1.2.0 in c:\\users\\duawl\\anaconda3\\lib\\site-packages (from librosa) (1.7.3)\n",
      "Requirement already satisfied: packaging>=20.0 in c:\\users\\duawl\\anaconda3\\lib\\site-packages (from librosa) (21.3)\n",
      "Requirement already satisfied: audioread>=2.1.9 in c:\\users\\duawl\\anaconda3\\lib\\site-packages (from librosa) (2.1.9)\n",
      "Requirement already satisfied: numpy>=1.17.0 in c:\\users\\duawl\\anaconda3\\lib\\site-packages (from librosa) (1.21.5)\n",
      "Requirement already satisfied: decorator>=4.0.10 in c:\\users\\duawl\\anaconda3\\lib\\site-packages (from librosa) (5.1.1)\n",
      "Requirement already satisfied: joblib>=0.14 in c:\\users\\duawl\\anaconda3\\lib\\site-packages (from librosa) (1.1.0)\n",
      "Requirement already satisfied: soundfile>=0.10.2 in c:\\users\\duawl\\anaconda3\\lib\\site-packages (from librosa) (0.10.3.post1)\n",
      "Requirement already satisfied: numba>=0.45.1 in c:\\users\\duawl\\anaconda3\\lib\\site-packages (from librosa) (0.55.1)\n",
      "Requirement already satisfied: pooch>=1.0 in c:\\users\\duawl\\anaconda3\\lib\\site-packages (from librosa) (1.6.0)\n",
      "Requirement already satisfied: resampy>=0.2.2 in c:\\users\\duawl\\anaconda3\\lib\\site-packages (from librosa) (0.3.1)\n",
      "Requirement already satisfied: scikit-learn>=0.19.1 in c:\\users\\duawl\\anaconda3\\lib\\site-packages (from librosa) (1.0.2)\n",
      "Requirement already satisfied: llvmlite<0.39,>=0.38.0rc1 in c:\\users\\duawl\\anaconda3\\lib\\site-packages (from numba>=0.45.1->librosa) (0.38.0)\n",
      "Requirement already satisfied: setuptools in c:\\users\\duawl\\anaconda3\\lib\\site-packages (from numba>=0.45.1->librosa) (61.2.0)\n",
      "Requirement already satisfied: pyparsing!=3.0.5,>=2.0.2 in c:\\users\\duawl\\anaconda3\\lib\\site-packages (from packaging>=20.0->librosa) (3.0.4)\n",
      "Requirement already satisfied: appdirs>=1.3.0 in c:\\users\\duawl\\anaconda3\\lib\\site-packages (from pooch>=1.0->librosa) (1.4.4)\n",
      "Requirement already satisfied: requests>=2.19.0 in c:\\users\\duawl\\anaconda3\\lib\\site-packages (from pooch>=1.0->librosa) (2.27.1)\n",
      "Requirement already satisfied: urllib3<1.27,>=1.21.1 in c:\\users\\duawl\\anaconda3\\lib\\site-packages (from requests>=2.19.0->pooch>=1.0->librosa) (1.26.9)\n",
      "Requirement already satisfied: certifi>=2017.4.17 in c:\\users\\duawl\\anaconda3\\lib\\site-packages (from requests>=2.19.0->pooch>=1.0->librosa) (2021.10.8)\n",
      "Requirement already satisfied: idna<4,>=2.5 in c:\\users\\duawl\\anaconda3\\lib\\site-packages (from requests>=2.19.0->pooch>=1.0->librosa) (3.3)\n",
      "Requirement already satisfied: charset-normalizer~=2.0.0 in c:\\users\\duawl\\anaconda3\\lib\\site-packages (from requests>=2.19.0->pooch>=1.0->librosa) (2.0.4)\n",
      "Requirement already satisfied: threadpoolctl>=2.0.0 in c:\\users\\duawl\\anaconda3\\lib\\site-packages (from scikit-learn>=0.19.1->librosa) (2.2.0)\n",
      "Requirement already satisfied: cffi>=1.0 in c:\\users\\duawl\\anaconda3\\lib\\site-packages (from soundfile>=0.10.2->librosa) (1.15.0)\n",
      "Requirement already satisfied: pycparser in c:\\users\\duawl\\anaconda3\\lib\\site-packages (from cffi>=1.0->soundfile>=0.10.2->librosa) (2.21)\n",
      "\n"
     ]
    }
   ],
   "source": [
    "pip install librosa"
   ]
  },
  {
   "cell_type": "code",
   "execution_count": 3,
   "id": "e577116a",
   "metadata": {},
   "outputs": [],
   "source": [
    "import speech_recognition as sr\n",
    "r = sr.Recognizer()"
   ]
  },
  {
   "cell_type": "code",
   "execution_count": 4,
   "id": "03dcc771",
   "metadata": {},
   "outputs": [],
   "source": [
    "speakers = [sr.AudioFile(\"C:/1p1n.wav\"), sr.AudioFile(\"C:/1p2n.wav\"), sr.AudioFile(\"C:/1p3n.wav\"), sr.AudioFile(\"C:/1p4n.wav\"), sr.AudioFile(\"C:/1p5n.wav\")]"
   ]
  },
  {
   "cell_type": "code",
   "execution_count": 6,
   "id": "7037f234",
   "metadata": {},
   "outputs": [
    {
     "name": "stdout",
     "output_type": "stream",
     "text": [
      "Text from speaker 0: 노 키우냐고 5분에서 7분 정도 소요될 건데 그걸 본인 혹시 잠깐 정차 가능하신 건가요 갓길에 아 지금 고속도로 오세요 보니까 몇 분 정도 나 이제 도착하세요 몇 분 후에 나 예 문자로 이제 그 저희 이제 사무실 번호 말씀하신 거죠 일단 제가 본인 그러시면 제가 일단 9시 반쯤에 왜냐면 이제 다른 피해자 분들도 있기 때문에 예전에 저희가 뭐 본인 시간을 이렇게 맞춰 드리기가 힘들고 제가 이제 곧 있게 이렇게 연락 드려야 되는 부분이 있어요 일단 제가 9시 반경에 연락 한번 다시 드리고 보니까 못 받으시면 제가 오후 쯤으로 연락 한번 다시 드리도록 할게요네 운전 조심히 하세요 일단 지금 제가 연락 드린 이유가 혹시 하시고 그게 아니시면 지금 개인정보유출로 인해서 보내 드렸고요\n",
      "Text from speaker 1: 직접 방문하셔서 이렇게 했잖아 지금 금융권은 어디 구미 건드리 있으시죠 중이세요 농협에 몇 개 그 여자가 있으셨죠 두 개요 형태 어떻게 되십니까 형제가 어떻게 되시나요 안 들리세요 시끄럽다고 지금 돈이 많아서 그래요 지금 진행 중이고요 들어가 형태가 어떻게 되시죠 되는 것인지 상품인지 없었는 겁니다 일단 전화 드린 건 오해는 하지 마시고요 오늘 전화 드린 원인은 혹시 본인께서 통장을 제도를 하셔서 김종호 주 봄에게 불법적으로 금전거래를 하시고 통장을 고의적으로 양도를 하신 건지 아니면 개인정보 유출로 인해 사용하시는 금융권이나 이메일 번호 보기 좋습니다 저녁 해 놓고\n",
      "Text from speaker 2: 제가 지금 몇 가지 마 그럼 질문드리고 사건 번호 말씀 드릴게요 혹시 수원시 팔달구 거주하던 40대 남성입니다 김태환 맛있는 거 있으니까 저녁 모르세요 작은 최근 1년 사이에 본인 개인 정보가 담긴 물품을 하시거나 고난당하신 적 있으십니까 따로 없으시고요 SNS 나 이메일 좀 자주 이용하시는 편이세요 로그인 같은 것이다 이용하시면서 해킹당할 신정은 없으시고요 따로 일단 이러한 상황이기 때문에 제가 지금부터 본인께서 사용하시는 금융권 상호와 용도에 대해서만 좀 진주를 받을 건데 다시 한번 말씀드리지만 본인 계좌 번호랑 비밀번호 이런 개인정보에 관한 건 절대 말씀하시면 안 되시고요 앞서서 저희 쪽에 진술 하지 않는 내용이 한해서 본인의 추가적인 통장이 발견했을 땐 저희 쪽에서 이제 대포통장으로 간주가 되고 동결처리 가지는 될 수 있다는 점 인제 해 주시고요 예 잘 잤나요 작은 첫 번째로 보낼 때도 사용하시는 금융권 사고에 대해서 말씀 진실을 받을 건데 제가 어렸을 때 만드시고 사용을 안 하셔도 상관은 없지 시고요 휴먼 계좌 좀 말씀을 해 주셔야 돼요 본인께서 직접 하시고 본인 본인 명의로 되어있는 금융권 상호 첫 번째 본인 맞으십니까 금융권이나 핸드폰 대리점 판매처에서 근무하시면 있으십니까 없으시고 어떻게 되십니까 근데는 뭐지 그 쉬고 계십니까 알겠습니다 수원시 팔달구 거주했던 40대 남성 김태환 모르십니까 최근 3년 사이에 본인 개인 정보가 담긴 물건 없으십니까\n",
      "Text from speaker 3: 통화 불편하시면 제가 보내드릴테니까 또한 날짜에 맞춰서 나오시면 드시는 거고요 일단 확인 좀 하겠습니다 혹시 전라도 광주 되는데 김동원 한 사람에 대해서 아시는데 있어요 아 그래요 보니까 문제가 발생 보고 그 책을 2 3년 이내에 본인 신분증 일하다가 운전면허증 개인 정보가 담긴 심장이 있었습니까 그러면 이번 말고 다른 데서 확인 나오게 되면 저희가 사용을 못 하게 하는 거에 대해서 없으시죠 너무 걱정은 하지 마세요 쪽에서 이쪽까지 오셔 갖고 뭐 통장을 생각지 않아요 본인 명의 판매를 있는지 아니면 본인도 피해자인지\n",
      "Text from speaker 4: 이 사건에 대해서 수사관은 개인정보보호법에 유도하여 주민번호 계좌번호 비밀번호 등은 절대 못 알아 드시고 마찬가지로 지도자가 녹취 중에는 그 생각이 절대 저한테 다시 하시면 안 됩니다 내가 보니까에서도 용의자 일당들과 연관성이 없다는 것에 대해서 일정 수다 시작하겠습니다 저는 서울중앙지검 첨단범죄수사 엄재훈 수사관입니다 본인 상황과 생년월일 말씀해 주세요 보고 등록을 왜 질문드리겠습니다 합법적이고 없는 가지 않도록 저희가 안전조치로 해 드릴 수가 있거든요 오늘 기준이에요 현재 오늘 기준으로 본인의 통장에 얼마 나고 기재가 되어 있어야 정상적이고 합법적인 제자입니까 현재 진솔한세계 정상에 증명해 큰 업체가 날 경우 그 계좌 역시 싼게 다가 아니라고 단정하고 동결처리 체포영장이 발부된 있습니다 민감한 부분이 제가 간단하게 설명을 해 드릴게요 농협 입출금 통장에 100만 원 있다고 말씀을 하셨어요 계좌추적을 했는데 조사결과 100만 원 2천만 원이 나와요 그러면 저희가 어떻게 생각하겠습니까 농협 통장 역시 밖에 없죠 경기도 출신 38세 오명철 알고 계십니까 2017년 3월 경에 경기도 광명시 철산 지점에서 하나은행과 우리은행 통장 재발급 되는데 본인이 직접 가셔서 발급하는 받았으니까 통장이 발생하지 않도록\n"
     ]
    }
   ],
   "source": [
    "for i, speaker in enumerate(speakers):\n",
    "    with speaker as source:\n",
    "        speaker_audio = r.record(source)\n",
    "    print(f\"Text from speaker {i}: {r.recognize_google(audio_data=speaker_audio, language='ko-KR')}\")"
   ]
  }
 ],
 "metadata": {
  "kernelspec": {
   "display_name": "Python 3 (ipykernel)",
   "language": "python",
   "name": "python3"
  },
  "language_info": {
   "codemirror_mode": {
    "name": "ipython",
    "version": 3
   },
   "file_extension": ".py",
   "mimetype": "text/x-python",
   "name": "python",
   "nbconvert_exporter": "python",
   "pygments_lexer": "ipython3",
   "version": "3.9.12"
  }
 },
 "nbformat": 4,
 "nbformat_minor": 5
}
