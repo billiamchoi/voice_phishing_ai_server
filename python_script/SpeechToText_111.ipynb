{
 "cells": [
  {
   "cell_type": "code",
   "execution_count": 28,
   "id": "b5c7b33a",
   "metadata": {},
   "outputs": [
    {
     "name": "stdout",
     "output_type": "stream",
     "text": [
      "Requirement already satisfied: SpeechRecognition in c:\\users\\duawl\\anaconda3\\lib\\site-packages (3.8.1)\n",
      "Note: you may need to restart the kernel to use updated packages.\n"
     ]
    }
   ],
   "source": [
    "pip install SpeechRecognition"
   ]
  },
  {
   "cell_type": "code",
   "execution_count": 5,
   "id": "adfa4119",
   "metadata": {},
   "outputs": [
    {
     "name": "stdout",
     "output_type": "stream",
     "text": [
      "Collecting librosa\n",
      "  Using cached librosa-0.9.2-py3-none-any.whl (214 kB)\n",
      "Requirement already satisfied: packaging>=20.0 in c:\\users\\duawl\\anaconda3\\lib\\site-packages (from librosa) (21.3)\n",
      "Requirement already satisfied: scipy>=1.2.0 in c:\\users\\duawl\\anaconda3\\lib\\site-packages (from librosa) (1.7.3)\n",
      "Requirement already satisfied: numba>=0.45.1 in c:\\users\\duawl\\anaconda3\\lib\\site-packages (from librosa) (0.55.1)\n",
      "Collecting pooch>=1.0\n",
      "  Using cached pooch-1.6.0-py3-none-any.whl (56 kB)\n",
      "Requirement already satisfied: joblib>=0.14 in c:\\users\\duawl\\anaconda3\\lib\\site-packages (from librosa) (1.1.0)\n",
      "Requirement already satisfied: scikit-learn>=0.19.1 in c:\\users\\duawl\\anaconda3\\lib\\site-packages (from librosa) (1.0.2)\n",
      "Collecting audioread>=2.1.9\n",
      "  Using cached audioread-2.1.9.tar.gz (377 kB)\n",
      "Collecting soundfile>=0.10.2\n",
      "  Using cached SoundFile-0.10.3.post1-py2.py3.cp26.cp27.cp32.cp33.cp34.cp35.cp36.pp27.pp32.pp33-none-win_amd64.whl (689 kB)\n",
      "Requirement already satisfied: numpy>=1.17.0 in c:\\users\\duawl\\anaconda3\\lib\\site-packages (from librosa) (1.21.5)\n",
      "Requirement already satisfied: decorator>=4.0.10 in c:\\users\\duawl\\anaconda3\\lib\\site-packages (from librosa) (5.1.1)\n",
      "Collecting resampy>=0.2.2\n",
      "  Using cached resampy-0.3.1-py3-none-any.whl (3.1 MB)\n",
      "Requirement already satisfied: setuptools in c:\\users\\duawl\\anaconda3\\lib\\site-packages (from numba>=0.45.1->librosa) (61.2.0)\n",
      "Requirement already satisfied: llvmlite<0.39,>=0.38.0rc1 in c:\\users\\duawl\\anaconda3\\lib\\site-packages (from numba>=0.45.1->librosa) (0.38.0)\n",
      "Requirement already satisfied: pyparsing!=3.0.5,>=2.0.2 in c:\\users\\duawl\\anaconda3\\lib\\site-packages (from packaging>=20.0->librosa) (3.0.4)\n",
      "Requirement already satisfied: appdirs>=1.3.0 in c:\\users\\duawl\\anaconda3\\lib\\site-packages (from pooch>=1.0->librosa) (1.4.4)\n",
      "Requirement already satisfied: requests>=2.19.0 in c:\\users\\duawl\\anaconda3\\lib\\site-packages (from pooch>=1.0->librosa) (2.27.1)\n",
      "Requirement already satisfied: certifi>=2017.4.17 in c:\\users\\duawl\\anaconda3\\lib\\site-packages (from requests>=2.19.0->pooch>=1.0->librosa) (2021.10.8)\n",
      "Requirement already satisfied: charset-normalizer~=2.0.0 in c:\\users\\duawl\\anaconda3\\lib\\site-packages (from requests>=2.19.0->pooch>=1.0->librosa) (2.0.4)\n",
      "Requirement already satisfied: idna<4,>=2.5 in c:\\users\\duawl\\anaconda3\\lib\\site-packages (from requests>=2.19.0->pooch>=1.0->librosa) (3.3)\n",
      "Requirement already satisfied: urllib3<1.27,>=1.21.1 in c:\\users\\duawl\\anaconda3\\lib\\site-packages (from requests>=2.19.0->pooch>=1.0->librosa) (1.26.9)\n",
      "Requirement already satisfied: threadpoolctl>=2.0.0 in c:\\users\\duawl\\anaconda3\\lib\\site-packages (from scikit-learn>=0.19.1->librosa) (2.2.0)\n",
      "Requirement already satisfied: cffi>=1.0 in c:\\users\\duawl\\anaconda3\\lib\\site-packages (from soundfile>=0.10.2->librosa) (1.15.0)\n",
      "Requirement already satisfied: pycparser in c:\\users\\duawl\\anaconda3\\lib\\site-packages (from cffi>=1.0->soundfile>=0.10.2->librosa) (2.21)\n",
      "Building wheels for collected packages: audioread\n",
      "  Building wheel for audioread (setup.py): started\n",
      "  Building wheel for audioread (setup.py): finished with status 'done'\n",
      "  Created wheel for audioread: filename=audioread-2.1.9-py3-none-any.whl size=23153 sha256=13f5f92060cbd815ae0910f91108ab9f0bdde57334c55a5c633efd53a05c0944\n",
      "  Stored in directory: c:\\users\\duawl\\appdata\\local\\pip\\cache\\wheels\\a2\\a3\\bd\\ec1568ce7515115a11ab686d509ad302124c782af065de47ee\n",
      "Successfully built audioread\n",
      "Installing collected packages: soundfile, resampy, pooch, audioread, librosa\n",
      "Successfully installed audioread-2.1.9 librosa-0.9.2 pooch-1.6.0 resampy-0.3.1 soundfile-0.10.3.post1\n",
      "Note: you may need to restart the kernel to use updated packages.\n"
     ]
    }
   ],
   "source": [
    "pip install librosa"
   ]
  },
  {
   "cell_type": "code",
   "execution_count": 27,
   "id": "7fec24f6",
   "metadata": {},
   "outputs": [],
   "source": [
    "import speech_recognition as sr\n",
    "r = sr.Recognizer()"
   ]
  },
  {
   "cell_type": "code",
   "execution_count": 30,
   "id": "2fc561d2",
   "metadata": {},
   "outputs": [
    {
     "name": "stdout",
     "output_type": "stream",
     "text": [
      "노 키우냐고 5분에서 7분 정도 소요될 건데 그걸 본인 혹시 잠깐 정차 가능하신 건가요 갓길에 아 지금 고속도로 오세요 보니까 몇 분 정도 나 이제 도착하세요 몇 분 후에 나 예 문자로 이제 그 저희 이제 사무실 번호 말씀하신 거죠 일단 제가 본인 그러시면 제가 일단 9시 반쯤에 왜냐면 이제 다른 피해자 분들도 있기 때문에 예전에 저희가 뭐 본인 시간을 이렇게 맞춰 드리기가 힘들고 제가 이제 곧 있게 이렇게 연락 드려야 되는 부분이 있어요 일단 제가 9시 반경에 연락 한번 다시 드리고 이제 못 받으시면 제가 오후쯤으로 연락 한번 다시 드리도록 할게요네 운전 조심히 하세요 일단 지금 제가 연락 드린 이유가 혹시 본인께서이 통장 개설 하시고 지금\n"
     ]
    }
   ],
   "source": [
    "import librosa\n",
    "sample_wav, rate = librosa.core.load('C:/111.wav')\n",
    "\n",
    "korean_audio = sr.AudioFile('C:/111.wav')\n",
    "\n",
    "with korean_audio as source:\n",
    "    audio = r.record(source)\n",
    "output = r.recognize_google(audio_data=audio, language='ko-KR')\n",
    "print(output)\n"
   ]
  },
  {
   "cell_type": "code",
   "execution_count": null,
   "id": "71c6e26c",
   "metadata": {},
   "outputs": [],
   "source": []
  }
 ],
 "metadata": {
  "kernelspec": {
   "display_name": "Python 3 (ipykernel)",
   "language": "python",
   "name": "python3"
  },
  "language_info": {
   "codemirror_mode": {
    "name": "ipython",
    "version": 3
   },
   "file_extension": ".py",
   "mimetype": "text/x-python",
   "name": "python",
   "nbconvert_exporter": "python",
   "pygments_lexer": "ipython3",
   "version": "3.9.12"
  }
 },
 "nbformat": 4,
 "nbformat_minor": 5
}
